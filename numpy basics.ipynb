{
 "cells": [
  {
   "cell_type": "markdown",
   "id": "cce9c255",
   "metadata": {},
   "source": [
    "## 1. Creating NumPy Arrays\n",
    "\n",
    "**NumPy** (short for \"Numerical Python\") is the foundational library for numerical computing in Python. Its core data structure is the powerful **NumPy array**.\n",
    "\n",
    "Think of a NumPy array as a grid of values, all of the same type. They are similar to Python lists, but they're much faster and more efficient for numerical operations, especially on large datasets. This speed and efficiency make them essential for data analysis.\n",
    "\n",
    "### 1. Import Convention\n",
    "First, you need to import the library. The standard convention used by all data scientists is to import `numpy` with the alias `np`.\n"
   ]
  },
  {
   "cell_type": "code",
   "execution_count": 24,
   "id": "44397fd7",
   "metadata": {},
   "outputs": [
    {
     "name": "stdout",
     "output_type": "stream",
     "text": [
      "Python list: [1500, 1500, 1750, 1750, 1800, 2000]\n",
      "NumPy array: [1500 1500 1750 1750 1800 2000]\n"
     ]
    }
   ],
   "source": [
    "import numpy as np\n",
    "\n",
    "# A regular Python list\n",
    "rent_list = [1500, 1500, 1750, 1750, 1800, 2000]\n",
    "\n",
    "# Create a NumPy array from the list\n",
    "rent_array = np.array(rent_list)\n",
    "\n",
    "print(\"Python list:\", rent_list)\n",
    "print(\"NumPy array:\", rent_array)"
   ]
  },
  {
   "cell_type": "code",
   "execution_count": 4,
   "id": "fa4ad558",
   "metadata": {},
   "outputs": [
    {
     "name": "stdout",
     "output_type": "stream",
     "text": [
      "Daily notifications: [237 150 198 205 215 180 201]\n"
     ]
    }
   ],
   "source": [
    "# You can also create it directly\n",
    "notifications = np.array([237, 150, 198, 205, 215, 180, 201])\n",
    "print(\"Daily notifications:\", notifications)"
   ]
  },
  {
   "cell_type": "markdown",
   "id": "a5ab63d2",
   "metadata": {},
   "source": [
    "## 2. Inspecting Data (Indexing & Slicing)\n",
    "\n",
    "Just like Python lists, NumPy arrays are **0-indexed**, meaning the first element is at index `0`.\n",
    "\n",
    "### 1. Indexing (Accessing a Single Element)\n",
    "You can access any individual element using square brackets `[]` with the element's index inside.\n",
    "\n",
    "### 2. Slicing (Accessing a Range of Elements)\n",
    "Slicing lets you select a sub-section of the array. The syntax is `array[start:end]`, where the `start` index is included and the `end` index is excluded."
   ]
  },
  {
   "cell_type": "code",
   "execution_count": 5,
   "id": "f9d3ffc9",
   "metadata": {},
   "outputs": [],
   "source": [
    "# Array of NYC population (in millions, simplified for demo)\n",
    "nyc_population = np.array([19.57, 19.67, 19.85, 20.10, 19.46, 19.62])"
   ]
  },
  {
   "cell_type": "code",
   "execution_count": 25,
   "id": "55fa4ea6",
   "metadata": {},
   "outputs": [
    {
     "name": "stdout",
     "output_type": "stream",
     "text": [
      "First element: 19.57\n",
      "Last element: 19.62\n"
     ]
    }
   ],
   "source": [
    "# 1. Indexing\n",
    "print(\"First element:\", nyc_population[0])\n",
    "print(\"Last element:\", nyc_population[-1]) # Negative indexing works too!"
   ]
  },
  {
   "cell_type": "code",
   "execution_count": 8,
   "id": "604a4a6f",
   "metadata": {},
   "outputs": [
    {
     "name": "stdout",
     "output_type": "stream",
     "text": [
      "First three elements: [19.57 19.67 19.85]\n",
      "Elements from index 2 to the end: [19.85 20.1  19.46 19.62]\n"
     ]
    }
   ],
   "source": [
    "# 2. Slicing\n",
    "print(\"First three elements:\", nyc_population[0:3])\n",
    "print(\"Elements from index 2 to the end:\", nyc_population[2:])"
   ]
  },
  {
   "cell_type": "markdown",
   "id": "e5f7af53",
   "metadata": {},
   "source": [
    "## 3. Getting More Info (Shape & Basic Functions)\n",
    "\n",
    "### 1. `.shape`\n",
    "The `.shape` property tells you the dimensions of your array. It returns a tuple where each number represents the size of a dimension. For a 2D array, it will be `(rows, columns)`.\n",
    "\n",
    "### 2. Math Functions\n",
    "NumPy provides a suite of fast, optimized mathematical functions that operate on entire arrays at once. This is much more efficient than looping through a list in Python.\n",
    "* `.min()`: Find the minimum value.\n",
    "* `.max()`: Find the maximum value.\n",
    "* `.sum()`: Calculate the sum of all elements.\n",
    "* `.average()` or `.mean()`: Calculate the average of all elements."
   ]
  },
  {
   "cell_type": "code",
   "execution_count": 9,
   "id": "cc8518b4",
   "metadata": {},
   "outputs": [],
   "source": [
    "# Weekly walking steps\n",
    "walking_steps = np.array([10521, 8765, 12053, 7500, 9812, 11023, 9112])\n",
    "egg_carton = np.array([\n",
    "  [0.89, 0.90, 0.83, 0.89, 0.97, 0.98],\n",
    "  [0.95, 0.95, 0.89, 0.95, 0.23, 0.99]\n",
    "]) # 2D array"
   ]
  },
  {
   "cell_type": "code",
   "execution_count": 10,
   "id": "a0c574c0",
   "metadata": {},
   "outputs": [
    {
     "name": "stdout",
     "output_type": "stream",
     "text": [
      "Shape of walking_steps (1D): (7,)\n",
      "Shape of egg_carton (2D): (2, 6)\n"
     ]
    }
   ],
   "source": [
    "# 1. Shape\n",
    "print(f\"Shape of walking_steps (1D): {walking_steps.shape}\")\n",
    "print(f\"Shape of egg_carton (2D): {egg_carton.shape}\")"
   ]
  },
  {
   "cell_type": "code",
   "execution_count": 11,
   "id": "7de540da",
   "metadata": {},
   "outputs": [
    {
     "name": "stdout",
     "output_type": "stream",
     "text": [
      "Minimum steps: 7500\n",
      "Maximum steps: 12053\n",
      "Total steps: 68786\n",
      "Average daily steps: 9826.57\n"
     ]
    }
   ],
   "source": [
    "# 2. Math Functions\n",
    "print(f\"Minimum steps: {np.min(walking_steps)}\")\n",
    "print(f\"Maximum steps: {np.max(walking_steps)}\")\n",
    "print(f\"Total steps: {np.sum(walking_steps)}\")\n",
    "print(f\"Average daily steps: {np.average(walking_steps):.2f}\") # .2f formats to 2 decimal places"
   ]
  },
  {
   "cell_type": "code",
   "execution_count": 12,
   "id": "30362017",
   "metadata": {},
   "outputs": [
    {
     "name": "stdout",
     "output_type": "stream",
     "text": [
      "Average egg freshness: 0.87\n"
     ]
    }
   ],
   "source": [
    "# Functions work on 2D arrays too!\n",
    "print(f\"Average egg freshness: {np.average(egg_carton):.2f}\")"
   ]
  },
  {
   "cell_type": "markdown",
   "id": "94184a5d",
   "metadata": {},
   "source": [
    "## 4. Modifying Arrays (Operators & Reshaping)\n",
    "\n",
    "### 1. Arithmetic Operators\n",
    "One of NumPy's most powerful features is **vectorization**. Think of it like a manager at a factory. Instead of telling each worker on an assembly line what to do one-by-one (a `for` loop), the manager shouts one command—\"Everyone, speed up by 10%!\"—and the entire line performs the action at once. Vectorization is that single command to the whole array.\n",
    "\n",
    "### 2. `.reshape()`\n",
    "You can change the shape of an array while keeping the same data with the `.reshape()` method. The total number of elements must remain the same. For example, you can reshape an array with 8 elements into a `(2, 4)` grid (2 rows, 4 columns) because `2 * 4 = 8`."
   ]
  },
  {
   "cell_type": "code",
   "execution_count": 13,
   "id": "ab07dc4b",
   "metadata": {},
   "outputs": [],
   "source": [
    "# 1. Operators\n",
    "tallest_buildings_ft = np.array([2717, 2227, 2073, 1972, 1966])"
   ]
  },
  {
   "cell_type": "code",
   "execution_count": 14,
   "id": "1ee9ad40",
   "metadata": {},
   "outputs": [
    {
     "name": "stdout",
     "output_type": "stream",
     "text": [
      "Heights in meters: [828.1416 678.7896 631.8504 601.0656 599.2368]\n"
     ]
    }
   ],
   "source": [
    "# Convert feet to meters by multiplying the whole array by 0.3048\n",
    "tallest_buildings_m = tallest_buildings_ft * 0.3048\n",
    "print(\"Heights in meters:\", tallest_buildings_m)"
   ]
  },
  {
   "cell_type": "code",
   "execution_count": 15,
   "id": "4e5cb9ce",
   "metadata": {},
   "outputs": [
    {
     "name": "stdout",
     "output_type": "stream",
     "text": [
      "Original shape: (14,)\n"
     ]
    }
   ],
   "source": [
    "# 2. Reshaping\n",
    "month_results = np.array([56, 100, 33, 0, 45, 45, 46, 34, 89, 180, 60, 45, 45, 44])\n",
    "print(\"Original shape:\", month_results.shape)"
   ]
  },
  {
   "cell_type": "code",
   "execution_count": 16,
   "id": "69ecea9d",
   "metadata": {},
   "outputs": [
    {
     "name": "stdout",
     "output_type": "stream",
     "text": [
      "\n",
      "Reshaped into weekly data:\n",
      "[[ 56 100  33   0  45  45  46]\n",
      " [ 34  89 180  60  45  45  44]]\n",
      "New shape: (2, 7)\n"
     ]
    }
   ],
   "source": [
    "# Reshape 14 days of data into 2 weeks (2 rows, 7 columns)\n",
    "weekly_results = month_results.reshape(2, 7)\n",
    "print(\"\\nReshaped into weekly data:\")\n",
    "print(weekly_results)\n",
    "print(\"New shape:\", weekly_results.shape)"
   ]
  },
  {
   "cell_type": "markdown",
   "id": "fd2e25d9",
   "metadata": {},
   "source": [
    "## 5. Creating Arrays (Advanced)\n",
    "\n",
    "### `.arange()`\n",
    "The `np.arange()` function is similar to Python's built-in `range()`, but it creates a NumPy array instead of a list. It's great for generating arrays with evenly spaced numerical sequences.\n",
    "\n",
    "The syntax is `np.arange(start, stop, step)`:\n",
    "* `start`: The first value (inclusive).\n",
    "* `stop`: The end value (exclusive).\n",
    "* `step`: The interval between values."
   ]
  },
  {
   "cell_type": "code",
   "execution_count": 17,
   "id": "32fe8484",
   "metadata": {},
   "outputs": [
    {
     "name": "stdout",
     "output_type": "stream",
     "text": [
      "Halley's Comet next appearances: [1986 2061 2136 2211 2286]\n"
     ]
    }
   ],
   "source": [
    "# Halley's Comet appears every 75 years. It last appeared in 1986.\n",
    "# Let's find its next appearances up to the year 2300.\n",
    "\n",
    "comet_years = np.arange(start=1986, stop=2300, step=75)\n",
    "\n",
    "print(\"Halley's Comet next appearances:\", comet_years)"
   ]
  },
  {
   "cell_type": "markdown",
   "id": "68205183",
   "metadata": {},
   "source": [
    "## 6. Case Study: Titanic Dataset\n",
    "\n",
    "Now let's apply these concepts to analyze a real dataset. Here is data from 50 passengers on the Titanic.\n",
    "\n",
    "The columns are:\n",
    "1.  **Passenger ID**\n",
    "2.  **Survived** (0 = No, 1 = Yes)\n",
    "3.  **Passenger Class** (1 = Upper, 2 = Middle, 3 = Lower)\n",
    "4.  **Age**"
   ]
  },
  {
   "cell_type": "code",
   "execution_count": 18,
   "id": "b3662328",
   "metadata": {},
   "outputs": [],
   "source": [
    "passengers = np.array([\n",
    "   [1, 0, 3, 22], [2, 1, 1, 38], [3, 1, 3, 26], [4, 1, 1, 35], [5, 0, 3, 35],\n",
    "   [6, 0, 3, 18], [7, 0, 1, 54], [8, 0, 3, 2], [9, 1, 3, 27], [10, 1, 2, 14],\n",
    "  [11, 1, 3, 4], [12, 1, 1, 58], [13, 0, 3, 20], [14, 0, 3, 39], [15, 0, 3, 14],\n",
    "  [16, 1, 2, 55], [17, 0, 3, 2], [18, 1, 2, 12], [19, 0, 3, 31], [20, 1, 3, 8],\n",
    "  [21, 0, 2, 35], [22, 1, 2, 34], [23, 1, 3, 15], [24, 1, 1, 28], [25, 0, 3, 8],\n",
    "  [26, 1, 3, 38], [27, 0, 3, 2], [28, 0, 1, 1], [29, 1, 3, 5], [30, 0, 3, 18],\n",
    "  [31, 0, 1, 40], [32, 1, 1, 70], [33, 1, 3, 33], [34, 0, 2, 66], [35, 0, 1, 28],\n",
    "  [36, 0, 1, 42], [37, 1, 3, 5], [38, 0, 3, 18], [39, 0, 3, 18], [40, 1, 3, 14],\n",
    "  [41, 0, 3, 40], [42, 0, 2, 27], [43, 0, 3, 29], [44, 1, 2, 0], [45, 1, 3, 19],\n",
    "  [46, 0, 3, 33], [47, 0, 3, 14], [48, 1, 3, 22], [49, 0, 3, 41], [50, 0, 3, 18]\n",
    "])"
   ]
  },
  {
   "cell_type": "markdown",
   "id": "c45d645e",
   "metadata": {},
   "source": [
    "### Q1: What is the shape of this array?"
   ]
  },
  {
   "cell_type": "code",
   "execution_count": 19,
   "id": "89e57623",
   "metadata": {},
   "outputs": [
    {
     "name": "stdout",
     "output_type": "stream",
     "text": [
      "(50, 4)\n"
     ]
    }
   ],
   "source": [
    "print(passengers.shape)"
   ]
  },
  {
   "cell_type": "markdown",
   "id": "f871c8c1",
   "metadata": {},
   "source": [
    "### Q2: What is the average age of the passengers?"
   ]
  },
  {
   "cell_type": "code",
   "execution_count": 20,
   "id": "d41405c8",
   "metadata": {},
   "outputs": [
    {
     "name": "stdout",
     "output_type": "stream",
     "text": [
      "The average passenger age is: 25.5 years old\n"
     ]
    }
   ],
   "source": [
    "# The 'Age' is in the 4th column (index 3)\n",
    "ages = passengers[:, 3] # The ':' means 'all rows'\n",
    "average_age = np.average(ages)\n",
    "print(f\"The average passenger age is: {average_age:.1f} years old\")"
   ]
  },
  {
   "cell_type": "markdown",
   "id": "2dd2dcc4",
   "metadata": {},
   "source": [
    "### Q3: What is the percentage of passengers that survived?"
   ]
  },
  {
   "cell_type": "code",
   "execution_count": 21,
   "id": "bac9a549",
   "metadata": {},
   "outputs": [
    {
     "name": "stdout",
     "output_type": "stream",
     "text": [
      "44% of passengers survived.\n"
     ]
    }
   ],
   "source": [
    "# The 'Survived' column is the 2nd column (index 1)\n",
    "survived_column = passengers[:, 1]\n",
    "\n",
    "# The average of a column of 0s and 1s is the percentage of 1s!\n",
    "survival_percentage = np.average(survived_column) * 100\n",
    "print(f\"{survival_percentage:.0f}% of passengers survived.\")"
   ]
  },
  {
   "cell_type": "markdown",
   "id": "46ef860e",
   "metadata": {},
   "source": [
    "### Q4: What was the survival percentage by passenger class?\n",
    "\n",
    "This is a more complex question that requires **filtering**—a key skill in data analysis. We can create a \"mask\" to select only the rows that meet a certain condition.\n",
    "\n",
    "1. Create a boolean mask (e.g., `passengers[:, 2] == 1` checks which rows are for Class 1).\n",
    "2. Apply this mask to the original `passengers` array to get a new array with only the filtered rows.\n",
    "3. Perform calculations on this new, filtered array."
   ]
  },
  {
   "cell_type": "code",
   "execution_count": 22,
   "id": "28e920b0",
   "metadata": {},
   "outputs": [
    {
     "name": "stdout",
     "output_type": "stream",
     "text": [
      "Survival rate for Class 1: 50%\n",
      "Survival rate for Class 2: 62%\n",
      "Survival rate for Class 3: 38%\n"
     ]
    }
   ],
   "source": [
    "# Get the 'Survived' and 'Class' columns\n",
    "survived = passengers[:, 1]\n",
    "p_class = passengers[:, 2]\n",
    "\n",
    "# Create a boolean mask for each passenger class\n",
    "class1_mask = (p_class == 1)\n",
    "class2_mask = (p_class == 2)\n",
    "class3_mask = (p_class == 3)\n",
    "\n",
    "# Calculate the average survival rate for each class using the masks\n",
    "class1_survival = np.average(survived[class1_mask]) * 100\n",
    "class2_survival = np.average(survived[class2_mask]) * 100\n",
    "class3_survival = np.average(survived[class3_mask]) * 100\n",
    "\n",
    "print(f\"Survival rate for Class 1: {class1_survival:.0f}%\")\n",
    "print(f\"Survival rate for Class 2: {class2_survival:.0f}%\")\n",
    "print(f\"Survival rate for Class 3: {class3_survival:.0f}%\")"
   ]
  }
 ],
 "metadata": {
  "kernelspec": {
   "display_name": "base",
   "language": "python",
   "name": "python3"
  },
  "language_info": {
   "codemirror_mode": {
    "name": "ipython",
    "version": 3
   },
   "file_extension": ".py",
   "mimetype": "text/x-python",
   "name": "python",
   "nbconvert_exporter": "python",
   "pygments_lexer": "ipython3",
   "version": "3.13.5"
  }
 },
 "nbformat": 4,
 "nbformat_minor": 5
}
